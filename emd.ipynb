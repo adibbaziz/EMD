{
 "cells": [
  {
   "cell_type": "code",
   "execution_count": 127,
   "metadata": {},
   "outputs": [],
   "source": [
    "import numpy as np\n",
    "from EMD import EMD\n",
    "from lpsolve55 import *\n",
    "import matplotlib.pyplot as plt\n",
    "from tools import *"
   ]
  },
  {
   "cell_type": "code",
   "execution_count": 4,
   "metadata": {},
   "outputs": [
    {
     "name": "stdout",
     "output_type": "stream",
     "text": [
      "The autoreload extension is already loaded. To reload it, use:\n",
      "  %reload_ext autoreload\n"
     ]
    }
   ],
   "source": [
    "%load_ext autoreload\n",
    "%autoreload 2"
   ]
  },
  {
   "cell_type": "markdown",
   "metadata": {},
   "source": [
    "# lp_solve toy example"
   ]
  },
  {
   "cell_type": "code",
   "execution_count": null,
   "metadata": {
    "collapsed": true
   },
   "outputs": [],
   "source": [
    "lp = lpsolve('make_lp', 0, 4)\n",
    "lpsolve('set_verbose', lp, IMPORTANT)\n",
    "lpsolve('set_obj_fn', lp, [1, 3, 6.24, 0.1])\n",
    "lpsolve('add_constraint', lp, [0, 78.26, 0, 2.9], GE, 92.3)\n",
    "lpsolve('add_constraint', lp, [0.24, 0, 11.31, 0], LE, 14.8)\n",
    "lpsolve('add_constraint', lp, [12.68, 0, 0.08, 0.9], GE, 4)\n",
    "lpsolve('set_lowbo', lp, [28.6, 0, 0, 18])\n",
    "lpsolve('set_upbo', lp, [Infinite, Infinite, Infinite, 48.98])\n",
    "lpsolve('set_col_name', lp, ['COLONE', 'COLTWO', 'COLTHREE', 'COLFOUR'])\n",
    "lpsolve('set_row_name', lp, ['THISROW', 'THATROW', 'LASTROW'])\n",
    "lpsolve('write_lp', lp, 'a.lp')\n",
    "print lpsolve('get_mat', lp)[0]"
   ]
  },
  {
   "cell_type": "code",
   "execution_count": null,
   "metadata": {
    "collapsed": true
   },
   "outputs": [],
   "source": [
    "print lpsolve('get_mat', lp, 1, 2)"
   ]
  },
  {
   "cell_type": "code",
   "execution_count": null,
   "metadata": {
    "collapsed": true
   },
   "outputs": [],
   "source": [
    "lpsolve('solve', lp)\n",
    "print lpsolve('get_objective', lp)\n",
    "print lpsolve('get_variables', lp)[0]\n",
    "print lpsolve('get_constraints', lp)[0]"
   ]
  },
  {
   "cell_type": "markdown",
   "metadata": {
    "collapsed": true
   },
   "source": [
    "# Generate random dataset"
   ]
  },
  {
   "cell_type": "code",
   "execution_count": 5,
   "metadata": {
    "scrolled": true
   },
   "outputs": [
    {
     "data": {
      "image/png": "[encoded data removed]",
      "text/plain": [
       "<matplotlib.figure.Figure at 0x1084dc0d0>"
      ]
     },
     "metadata": {},
     "output_type": "display_data"
    }
   ],
   "source": [
    "m = 40\n",
    "n = 20\n",
    "P_points, P_weights = generate_normal(m, [1,1])\n",
    "Q_points, Q_weights = generate_normal(n, [5,5])\n",
    "plt.plot(P_points[:,0],P_points[:,1], 'x')\n",
    "plt.plot(Q_points[:,0],Q_points[:,1], '+')\n",
    "plt.show()"
   ]
  },
  {
   "cell_type": "markdown",
   "metadata": {},
   "source": [
    "## Computation of the Earth Mover Distance"
   ]
  },
  {
   "cell_type": "code",
   "execution_count": 6,
   "metadata": {
    "collapsed": true
   },
   "outputs": [],
   "source": [
    "d = lambda x,y: np.linalg.norm(x-y, ord=1)\n",
    "emdPQ = EMD(zip(P_points, P_weights), zip(Q_points, Q_weights), d)"
   ]
  },
  {
   "cell_type": "code",
   "execution_count": 7,
   "metadata": {},
   "outputs": [
    {
     "name": "stdout",
     "output_type": "stream",
     "text": [
      "Done!\n"
     ]
    }
   ],
   "source": [
    "emdPQ.write_lp_problem('emd_pb.lp')"
   ]
  },
  {
   "cell_type": "code",
   "execution_count": 8,
   "metadata": {},
   "outputs": [
    {
     "name": "stdout",
     "output_type": "stream",
     "text": [
      "CPU times: user 13.9 ms, sys: 314 µs, total: 14.3 ms\n",
      "Wall time: 14.4 ms\n"
     ]
    }
   ],
   "source": [
    "%%time\n",
    "emdPQ.solve_lp()"
   ]
  },
  {
   "cell_type": "code",
   "execution_count": 9,
   "metadata": {},
   "outputs": [
    {
     "data": {
      "text/plain": [
       "6.7368755327600871"
      ]
     },
     "execution_count": 9,
     "metadata": {},
     "output_type": "execute_result"
    }
   ],
   "source": [
    "emdPQ.distance"
   ]
  },
  {
   "cell_type": "code",
   "execution_count": 10,
   "metadata": {},
   "outputs": [
    {
     "data": {
      "text/plain": [
       "691.7193322745487"
      ]
     },
     "execution_count": 10,
     "metadata": {},
     "output_type": "execute_result"
    }
   ],
   "source": [
    "emdPQ.objective"
   ]
  },
  {
   "cell_type": "markdown",
   "metadata": {
    "collapsed": true
   },
   "source": [
    "# Generate clustering problem"
   ]
  },
  {
   "cell_type": "code",
   "execution_count": 11,
   "metadata": {
    "collapsed": true
   },
   "outputs": [],
   "source": [
    "from sklearn.cluster import KMeans"
   ]
  },
  {
   "cell_type": "code",
   "execution_count": 20,
   "metadata": {},
   "outputs": [
    {
     "data": {
      "image/png": "[encoded data removed]",
      "text/plain": [
       "<matplotlib.figure.Figure at 0x113422d90>"
      ]
     },
     "metadata": {},
     "output_type": "display_data"
    }
   ],
   "source": [
    "# generate 2 clusters\n",
    "\n",
    "C1, _ = generate_normal(30, [1,1])\n",
    "C2, _ = generate_normal(34, [3,3])\n",
    "plt.plot(C1[:,0], C1[:,1], 'x')\n",
    "plt.plot(C2[:,0], C2[:,1], '+')\n",
    "plt.show()"
   ]
  },
  {
   "cell_type": "code",
   "execution_count": 42,
   "metadata": {},
   "outputs": [],
   "source": [
    "X = np.array(list(C1) + list(C2))"
   ]
  },
  {
   "cell_type": "code",
   "execution_count": 67,
   "metadata": {
    "collapsed": true
   },
   "outputs": [],
   "source": [
    "kmeans1 = KMeans(n_clusters=4, random_state=0).fit(X).labels_\n",
    "kmeans2 = KMeans(n_clusters=3, random_state=0).fit(X).labels_"
   ]
  },
  {
   "cell_type": "code",
   "execution_count": 116,
   "metadata": {},
   "outputs": [
    {
     "data": {
      "text/plain": [
       "array([3, 1, 1, 1, 1, 3, 1, 1, 3, 1, 1, 1, 3, 3, 2, 1, 1, 1, 1, 3, 1, 2, 1,\n",
       "       2, 1, 1, 1, 3, 1, 1, 0, 2, 2, 3, 2, 2, 2, 2, 0, 2, 0, 2, 2, 0, 0, 2,\n",
       "       0, 0, 2, 1, 0, 0, 2, 3, 1, 3, 2, 2, 2, 2, 0, 0, 0, 3], dtype=int32)"
      ]
     },
     "execution_count": 116,
     "metadata": {},
     "output_type": "execute_result"
    }
   ],
   "source": [
    "kmeans1"
   ]
  },
  {
   "cell_type": "code",
   "execution_count": 117,
   "metadata": {},
   "outputs": [
    {
     "name": "stdout",
     "output_type": "stream",
     "text": [
      "Done!\n"
     ]
    },
    {
     "data": {
      "text/plain": [
       "5.3125000000000062"
      ]
     },
     "execution_count": 117,
     "metadata": {},
     "output_type": "execute_result"
    }
   ],
   "source": [
    "compare_kmeans(kmeans1, kmeans2, False)"
   ]
  },
  {
   "cell_type": "code",
   "execution_count": 152,
   "metadata": {},
   "outputs": [
    {
     "data": {
      "image/png": "[encoded data removed]",
      "text/plain": [
       "<matplotlib.figure.Figure at 0x113817b10>"
      ]
     },
     "metadata": {},
     "output_type": "display_data"
    }
   ],
   "source": [
    "# Generate k clusters\n",
    "\n",
    "X = generate_mixture_gaussians(10)\n",
    "plt.plot(X[:,0], X[:,1], '+')\n",
    "plt.show()"
   ]
  },
  {
   "cell_type": "code",
   "execution_count": 175,
   "metadata": {},
   "outputs": [],
   "source": [
    "kmeans1 = KMeans(n_clusters=10, random_state=0).fit(X).labels_\n",
    "kmeans2 = KMeans(n_clusters=8, random_state=0).fit(X).labels_"
   ]
  },
  {
   "cell_type": "code",
   "execution_count": 176,
   "metadata": {},
   "outputs": [
    {
     "name": "stdout",
     "output_type": "stream",
     "text": [
      "Done!\n"
     ]
    },
    {
     "data": {
      "text/plain": [
       "12.530000000000005"
      ]
     },
     "execution_count": 176,
     "metadata": {},
     "output_type": "execute_result"
    }
   ],
   "source": [
    "compare_kmeans(kmeans1, kmeans2, False)"
   ]
  },
  {
   "cell_type": "code",
   "execution_count": null,
   "metadata": {
    "collapsed": true
   },
   "outputs": [],
   "source": []
  }
 ],
 "metadata": {
  "kernelspec": {
   "display_name": "Python 2",
   "language": "python",
   "name": "python2"
  },
  "language_info": {
   "codemirror_mode": {
    "name": "ipython",
    "version": 2
   },
   "file_extension": ".py",
   "mimetype": "text/x-python",
   "name": "python",
   "nbconvert_exporter": "python",
   "pygments_lexer": "ipython2",
   "version": "2.7.14"
  }
 },
 "nbformat": 4,
 "nbformat_minor": 2
}
